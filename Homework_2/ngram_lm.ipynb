{
 "cells": [
  {
   "cell_type": "markdown",
   "metadata": {},
   "source": [
    "Homework 2: n-gram LM\n",
    "----\n",
    "\n",
    "Due date: 25 Feb 2024\n",
    "\n",
    "Points: 105\n",
    "\n",
    "Goals:\n",
    "- understand the difficulties of counting and probablities in NLP applications\n",
    "- work with real world data to build a functioning language model\n",
    "- stress test your model (to some extent)\n",
    "\n",
    "Complete in groups of: __one (individually)__\n",
    "\n",
    "Allowed python modules:\n",
    "- `numpy`, `matplotlib`, and all built-in python libraries (e.g. `math` and `string`)\n",
    "- do not use `nltk` or `pandas`\n",
    "\n",
    "Instructions:\n",
    "- Complete outlined problems in this notebook. \n",
    "- When you have finished, __clear the kernel__ and __run__ your notebook \"fresh\" from top to bottom. Ensure that there are __no errors__. \n",
    "    - If a problem asks for you to write code that does result in an error (as in, the answer to the problem is an error), leave the code in your notebook but commented out so that running from top to bottom does not result in any errors.\n",
    "- Double check that you have completed Task 0.\n",
    "- Submit your work on Gradescope.\n",
    "- Double check that your submission on Gradescope looks like you believe it should."
   ]
  },
  {
   "cell_type": "markdown",
   "metadata": {},
   "source": [
    "Task 0: Name, References, Reflection (5 points)\n",
    "---\n",
    "\n",
    "Name: __Nikita Vinod Mandal__\n",
    "\n",
    "References\n",
    "---\n",
    "1. Speech and Language Processing, Dan Jurafsky and James H. Martin : Textbook used for reading the concepts and equations.\n",
    "2. http://users.eecs.northwestern.edu/~zww991/Natural-Language-Processing.html#sec-1-4-1 : Read for more information on Shannon Technique.\n",
    "3. ChatGPT : Understanding a few errors in the code.\n",
    "\n",
    "(Example)\n",
    "- https://docs.python.org/3/tutorial/datastructures.html\n",
    "    - Read about the the basics and syntax for data structures in python.\n",
    "\n",
    "AI Collaboration\n",
    "---\n",
    "Following the *Policy on the use of Generative AI* in the syllabus, please cite any LLMs that you used here and briefly describe what you used them for. Additionally, provide comments in-line identifying the specific sections that you used LLMs on, if you used them towards the generation of any of your answers.\n",
    "\n",
    "Reflection\n",
    "----\n",
    "Answer the following questions __after__ you complete this assignment (no more than 1 sentence per question required, this section is graded on completion):\n",
    "\n",
    "1. Does this work reflect your best effort? : I tried my best. There's always scope for better work.\n",
    "2. What was/were the most challenging part(s) of the assignment? : Passing couple of last tests. Also understanding the overall problem statement and what was to be done.\n",
    "3. If you want feedback, what function(s) or problem(s) would you like feedback on and why? : I would like feedback on my language model, the function generate_sentence."
   ]
  },
  {
   "cell_type": "markdown",
   "metadata": {},
   "source": [
    "Task 1: Berp Data Write-Up (5 points)\n",
    "---\n",
    "\n",
    "Every time you use a data set in an NLP application (or in any software application), you should be able to answer a set of questions about that data. Answer these now. Default to no more than 1 sentence per question needed. If more explanation is necessary, do give it."
   ]
  },
  {
   "cell_type": "markdown",
   "metadata": {},
   "source": [
    "This is about the __berp__ data set.\n",
    "\n",
    "1. Where did you get the data from? https://www1.icsi.berkeley.edu/Speech/berp.html\n",
    "2. How was the data collected (where did the people acquiring the data get it from and how)? The data was collected through speech, i.e recorded audio.\n",
    "3. How large is the dataset? It contains 7500 sentences and 1500 tokens(words).\n",
    "4. What is your data? (i.e. newswire, tweets, books, blogs, etc) : The data is people talking to each other.\n",
    "5. Who produced the data? (who were the authors of the text? Your answer might be a specific person or a particular group of people) : The Berkeley Restaurant Project (BeRP) is being developed by the International Computer Science Institute in Berkeley, CA, in a project headed by Nelson Morgan."
   ]
  },
  {
   "cell_type": "markdown",
   "metadata": {},
   "source": [
    "Task 2: Implement an n-gram Language Model (90 points)\n",
    "----\n",
    "\n",
    "Implement the `LanguageModel` class as outlined in the provided `lm_model.py` file. Do not change function signatures (the unit tests that we provide and in the autograder will break).\n",
    "\n",
    "Your language model:\n",
    "- *must* work for the unigram, bigram, and trigram cases (5 points are allocated to an experiment involving larger values of `n`)\n",
    "    - hint: try to implement the bigram case as a generalized \"n greater than 1\" case\n",
    "- should be *token agnostic* (this means that if we give the model text tokenized as single characters, it will function as a character language model and if we give the model text tokenized as \"words\" (or \"traditionally\"), then it will function as a language model with those tokens)\n",
    "- will use Laplace smoothing\n",
    "- will replace all tokens that occur only once with `<UNK>` at train time\n",
    "    - do not add `<UNK>` to your vocabulary if no tokens in the training data occur only once!\n",
    "\n",
    "We have provided:\n",
    "- a function to read in files\n",
    "- some functions to change a list of strings into tokens\n",
    "- the skeleton of the `LanguageModel` class\n",
    "\n",
    "You need to implement:\n",
    "- all functions marked\n",
    "\n",
    "You may implement:\n",
    "- additional functions/methods as helpful to you\n",
    "\n",
    "As a general guideline for reference, including comments, all code required, and some debugging code that can be run with `verbose` parameters, our solution is ~ 300 lines. (~ 120 lines added to the starter code).\n",
    "\n",
    "Points breakdown marked in code below."
   ]
  },
  {
   "cell_type": "code",
   "execution_count": 1,
   "metadata": {},
   "outputs": [],
   "source": [
    "import lm_model as lm\n",
    "import numpy as np\n",
    "import matplotlib.pyplot as plt"
   ]
  },
  {
   "cell_type": "code",
   "execution_count": 2,
   "metadata": {},
   "outputs": [
    {
     "name": "stdout",
     "output_type": "stream",
     "text": [
      "[['<s>', 'i', 'i'], ['<s>', 'am', 'i', 'am', 'am']]\n",
      "[['<s>', 'ham', 'am', 'sam', 'sam', 'ham', 'ham', 'ham', 'i', 'ham'], ['<s>']]\n"
     ]
    }
   ],
   "source": [
    "# test the language model (unit tests)\n",
    "import test_minitrainingprovided as test\n",
    "\n",
    "# passing all these tests is a good indication that your model\n",
    "# is correct. They are *not a guarantee*, so make sure to look\n",
    "# at the tests and the cases that they cover. (we'll be testing\n",
    "# your model against all of the testing data in addition).\n",
    "\n",
    "# autograder points in gradescope are assigned SIXTY points\n",
    "# this is essentially 60 points for correctly implementing your\n",
    "# underlying model\n",
    "# there are an additional 10 points manually graded for the correctness\n",
    "# parts of your sentence generation\n",
    "\n",
    "# make sure all training files are in a \"training_files\" directory \n",
    "# that is in the same directory as this notebook\n",
    "\n",
    "unittest = test.TestMiniTraining()\n",
    "unittest.test_createunigrammodellaplace()\n",
    "unittest.test_createbigrammodellaplace()\n",
    "unittest.test_unigramlaplace()\n",
    "unittest.test_unigramunknownslaplace()\n",
    "unittest.test_bigramlaplace()\n",
    "unittest.test_bigramunknownslaplace()\n",
    "# produces output\n",
    "unittest.test_generateunigramconcludes()\n",
    "# produces output\n",
    "unittest.test_generatebigramconcludes()\n",
    "unittest.test_onlyunknownsgenerationandscoring()"
   ]
  },
  {
   "cell_type": "code",
   "execution_count": 3,
   "metadata": {},
   "outputs": [
    {
     "name": "stdout",
     "output_type": "stream",
     "text": [
      "['<s>', 'i', 'ten', \"i'd\", 'okay', 'ten', 'what', 'tell', 'eiffel', \"i'd\"]\n",
      "['<s>', \"i'd\", 'i', 'i', \"you've\", \"fred's\", 'uh', 'i', \"i'm\", \"let's\"]\n",
      "['<s>', 'can', 'about', 'i', 'i', 'i', 'can', \"didn't\", 'water', 'uh']\n",
      "['<s>', 'okay', 'i', 'tell', 'i', \"let's\", 'i', 'tell', 'which', 'yeah']\n",
      "['<s>', 'which', 'a', \"i'd\", 'about', 'please', 'i', 'i', 'uh', 'have']\n",
      "['<s>', 'right', \"i'd\", 'oh', 'could', 'up', 'close', 'looking', \"i'd\", 'i']\n",
      "['<s>', 'uh', 'does', 'show', 'howbout', 'i', 'i', 'i', 'okay', 'where']\n",
      "['<s>', 'maximum', 'please', 'i', 'what', 'i', 'thank', 'i', 'that', 'i']\n",
      "['<s>', 'i', 'i', 'i', 'went', 'do', \"kip's\", 'okay', 'start', '<UNK>']\n",
      "['<s>', 'i', 'what', 'i', 'up', 'the', 'where', \"i'm\", 'i', \"let's\"]\n"
     ]
    }
   ],
   "source": [
    "# 5 points\n",
    "# instantiate a bigram language model, train it, and generate ten sentences\n",
    "# make sure your output is nicely formatted!\n",
    "ngram = 2\n",
    "training_file_path = \"training_files/berp-training.txt\"\n",
    "by_char = False\n",
    "data = lm.read_file(training_file_path)\n",
    "tokens = lm.tokenize(data, ngram, by_char=by_char)\n",
    "langmodel = lm.LanguageModel(ngram)\n",
    "langmodel.train(tokens)\n",
    "\n",
    "sents = langmodel.generate(10)\n",
    "for sent in sents:\n",
    "    print(sent)"
   ]
  },
  {
   "cell_type": "code",
   "execution_count": 4,
   "metadata": {},
   "outputs": [
    {
     "name": "stdout",
     "output_type": "stream",
     "text": [
      "Mean score for each sentence in the test file:  4.9620823627262653e-05\n",
      "Standard deviation of the score for each sentence in the test file:  0.000285298086084196\n"
     ]
    }
   ],
   "source": [
    "# 5 points\n",
    "\n",
    "# evaluate your bigram model on the test data\n",
    "# score each line in the test data individually, then calculate the average score\n",
    "# you need not re-train your model\n",
    "test_path = \"testing_files/berp-test.txt\"\n",
    "test_data = lm.read_file(test_path)\n",
    "ngram = 2\n",
    "\n",
    "scores = []\n",
    "\n",
    "# YOUR CODE HERE\n",
    "for tok in test_data:\n",
    "    tok_list = tok.split()\n",
    "    tok_list.insert(0,'<s>')\n",
    "    tok_list.insert(len(tok_list), '</s>')\n",
    "    scores.append(langmodel.score(tok_list))\n",
    "print('Mean score for each sentence in the test file: ', np.mean(scores))\n",
    "print('Standard deviation of the score for each sentence in the test file: ', np.std(scores))\n",
    "\n",
    "# Print out the mean score and standard deviation\n",
    "# for words-as-tokens, these values should be\n",
    "# ~4.9 * 10^-5 and 0.000285\n"
   ]
  },
  {
   "cell_type": "code",
   "execution_count": 5,
   "metadata": {},
   "outputs": [
    {
     "name": "stdout",
     "output_type": "stream",
     "text": [
      "['<s>', '*', \"'She\", \"'Ron\", 'If', 'seven', \"surely?'\", 'Evans', 'There', 'He']\n",
      "['<s>', 'Sirius', \"'And\", \"'Potter,\", 'handbag,', 'wing.', 'maintaining', \"'Outstanding'\", \"'Well,\", 'sank.']\n",
      "['<s>', \"'Look\", 'What', \"'You\", \"'No\", 'cloak.', 'drop,', 'whirred', \"'Now,\", \"'Reparo,'\"]\n"
     ]
    }
   ],
   "source": [
    "# 5 points\n",
    "# see if you can train your model on the data you found for your first homework\n",
    "ngram = 10\n",
    "training_file_path = \"training_files/Harry Potter and the Order of the Phoenix.txt\"\n",
    "# optional parameter tells the tokenize function how to tokenize\n",
    "by_char = False\n",
    "data = lm.read_file(training_file_path)\n",
    "tokens = lm.tokenize(data, ngram, by_char=by_char)\n",
    "langmodel = lm.LanguageModel(ngram)\n",
    "# YOUR CODE HERE\n",
    "langmodel.train(tokens)\n",
    "\n",
    "sents = langmodel.generate(3)\n",
    "for sent in sents:\n",
    "    print(sent)\n",
    "\n",
    "# what is the maximum value of n <= 10 that you can train a model *in your programming environment* in a reasonable amount of time? (less than 3 - 5 minutes)\n",
    "# generate three sentences with this model\n"
   ]
  },
  {
   "cell_type": "markdown",
   "metadata": {},
   "source": [
    "Implement the corresponding function and evaluate the perplexity of your model on the first 20 lines in the test data for values of `n` from 1 to 3. Perplexity should be individually calculated for each line."
   ]
  },
  {
   "cell_type": "code",
   "execution_count": 6,
   "metadata": {},
   "outputs": [
    {
     "name": "stdout",
     "output_type": "stream",
     "text": [
      "********\n",
      "Ngram model: 1\n",
      "Mean Perplexity: 207.45124946617875\n",
      "********\n",
      "Ngram model: 2\n",
      "Mean Perplexity: 111.61488130941132\n",
      "********\n",
      "Ngram model: 3\n",
      "Mean Perplexity: 159.56572002131253\n"
     ]
    }
   ],
   "source": [
    "test_path = \"testing_files/berp-test.txt\"\n",
    "test_data = lm.read_file(test_path)\n",
    "training_file_path = \"training_files/berp-training.txt\"\n",
    "by_char = False\n",
    "data = lm.read_file(training_file_path)\n",
    "\n",
    "for ngram in range(1, 4):\n",
    "    print(\"********\")\n",
    "    print(\"Ngram model:\", ngram)\n",
    "    # YOUR CODE HERE\n",
    "    langmodel = lm.LanguageModel(ngram)\n",
    "    perplex_n_score = []\n",
    "    tokens = lm.tokenize(data, ngram, by_char=by_char)\n",
    "    langmodel.train(tokens)\n",
    "    \n",
    "    for tok in test_data[:20]:\n",
    "        tok_list = lm.tokenize_line(tok, ngram, False)\n",
    "        if ngram == 1:\n",
    "            tok_list.remove('<s>')\n",
    "        perplex_n_score.append(langmodel.perplexity(tok_list))\n",
    "    print(\"Mean Perplexity:\", np.mean(perplex_n_score))"
   ]
  },
  {
   "cell_type": "markdown",
   "metadata": {},
   "source": [
    "1. What are the common attributes of the test sentences that cause very high perplexity? __According to me the attributes causing high perplexity are out of vocabulory or context words and sentences, since these are just sentences used by people during random conversations. Hence we can never actually predict exactly what the next word is going to be. Also the language model implemented could be made better and more accurate.__"
   ]
  },
  {
   "cell_type": "markdown",
   "metadata": {},
   "source": [
    "5 points in this assignment are reserved for overall style (both for writing and for code submitted). All work submitted should be clear, easily interpretable, and checked for spelling, etc. (Re-read what you write and make sure it makes sense). Course staff are always happy to give grammatical help (but we won't pre-grade the content of your answers)."
   ]
  },
  {
   "cell_type": "markdown",
   "metadata": {},
   "source": []
  }
 ],
 "metadata": {
  "kernelspec": {
   "display_name": "Python 3 (ipykernel)",
   "language": "python",
   "name": "python3"
  },
  "language_info": {
   "codemirror_mode": {
    "name": "ipython",
    "version": 3
   },
   "file_extension": ".py",
   "mimetype": "text/x-python",
   "name": "python",
   "nbconvert_exporter": "python",
   "pygments_lexer": "ipython3",
   "version": "3.12.2"
  }
 },
 "nbformat": 4,
 "nbformat_minor": 4
}
