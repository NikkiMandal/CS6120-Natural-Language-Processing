{
  "cells": [
    {
      "cell_type": "markdown",
      "metadata": {
        "id": "4HLl8ApYnxAc"
      },
      "source": [
        "Homework 1: Python, Strings, Data, Scale\n",
        "----\n",
        "\n",
        "Due date: Jan 19th, 2024, 11:59 PM\n",
        "\n",
        "Points: 42\n",
        "\n",
        "Files to submit:\n",
        "- `data_scale.ipynb`\n",
        "- `yourdatafilefortask3and4` (See task 3. This file will most likely be a `.txt` or `.csv`, but can be any)\n",
        "\n",
        "Goals:\n",
        "- ensure that your python environment is set up and running\n",
        "- learn/review python skills regarding `string`s, data structures, and file manipulation\n",
        "\n",
        "Complete in groups of: __one (individually)__\n",
        "\n",
        "Allowed python modules:\n",
        "- Note that all necessary modules have already been imported for you for this assignment. (you may import any standard python libraries, plotting libraries as you'd like)\n",
        "\n",
        "\n",
        "Instructions:\n",
        "- Complete outlined problems in this notebook.\n",
        "- When you have finished, __clear the kernel__ and run your notebook \"fresh\" from top to bottom. Ensure that there are __no errors__.\n",
        "    - If a problem asks for you to write code that does result in an error (as in, the answer to the problem is an error), leave the code in your notebook but commented out so that running from top to bottom does not result in any errors.\n",
        "- Double check that you have completed Task 0.\n",
        "- Submit your work on Gradescope.\n",
        "- Double check that your submission on Gradescope looks like you believe it should.\n"
      ]
    },
    {
      "cell_type": "markdown",
      "metadata": {
        "jp-MarkdownHeadingCollapsed": true,
        "id": "n7cBvKBdnxAf"
      },
      "source": [
        "Task 0: Name, References, Reflection (5 points)\n",
        "---\n",
        "Name: Nikita Vinod Mandal\n",
        "\n",
        "References\n",
        "---\n",
        "1. https://docs.python.org/3/library/string.html\n",
        "\n",
        "2. Prof. Felix Muzny's notes on strings : https://muzny.github.io/csci1200-notes/03/5/strings.html\n",
        "\n",
        "3. for loops : https://wiki.python.org/moin/ForLoop\n",
        "\n",
        "4. Prof. Felix Muzny's notes on for loops : https://muzny.github.io/csci1200-notes/08/1/for_loops_basics.html\n",
        "\n",
        "5. lists : https://docs.python.org/3/tutorial/datastructures.html\n",
        "\n",
        "6. Prof. Felix Muzny's notes on lists : https://muzny.github.io/csci1200-notes/07/1/lists_basics.html\n",
        "\n",
        "7. GitHub for downloading the .txt file for Task 3 and 4\n",
        "\n",
        "AI Collaboration\n",
        "---\n",
        "Used ChatGPT to explain some concepts and to refer the types of source file that can be used for Task 3.\n",
        "\n",
        "Reflection\n",
        "----\n",
        "Answer the following questions __after__ you complete this assignment (no more than 1 sentence per question required, this section is graded on completion):\n",
        "\n",
        "1. Does this work reflect your best effort?\n",
        "\n",
        "  Ans : I tried my best, but there is a scope for improvement. I hope to be more proficient by the end of this course.\n",
        "2. What was/were the most challenging part(s) of the assignment?\n",
        "\n",
        "  Ans : Understanding the graph part in Task 2. Also seperating individual sentences as opposed to lines in Task 3.\n",
        "3. If you want feedback, what function(s) or problem(s) would you like feedback on and why?\n",
        "\n",
        "  Ans : I would like feedback on the Task 2. I found it a bit more complex even though it sounds simple.\n",
        "\n",
        "\n",
        "\n"
      ]
    },
    {
      "cell_type": "markdown",
      "metadata": {
        "id": "tbTSBio3nxAf"
      },
      "source": [
        "Task 1: Python Warm-up (8 points)\n",
        "----\n",
        "\n",
        "We'll warm-up by either learning about or reviewing `string`s, `for` loops, `range()`, and `list`s.\n",
        "\n",
        "Links to relevant documentation:\n",
        "- [strings](https://docs.python.org/3/library/string.html)\n",
        "- [Prof. Felix Muzny's notes on strings](https://muzny.github.io/csci1200-notes/03/5/strings.html)\n",
        "- [for loops](https://wiki.python.org/moin/ForLoop)\n",
        "- [Prof. Felix Muzny's notes on for loops](https://muzny.github.io/csci1200-notes/08/1/for_loops_basics.html)\n",
        "- [lists](https://docs.python.org/3/tutorial/datastructures.html)\n",
        "- [Prof. Felix Muzny's notes on lists](https://muzny.github.io/csci1200-notes/07/1/lists_basics.html)"
      ]
    },
    {
      "cell_type": "code",
      "execution_count": 50,
      "metadata": {
        "colab": {
          "base_uri": "https://localhost:8080/"
        },
        "id": "B4QyUI8rnxAg",
        "outputId": "dbdf0ceb-e757-4002-9920-da708a067d6a"
      },
      "outputs": [
        {
          "output_type": "stream",
          "name": "stdout",
          "text": [
            "H\n",
            "e\n",
            "l\n",
            "l\n",
            "o\n",
            ",\n",
            " \n",
            "M\n",
            "y\n",
            " \n",
            "n\n",
            "a\n",
            "m\n",
            "e\n",
            " \n",
            "i\n",
            "s\n",
            " \n",
            "N\n",
            "i\n",
            "k\n",
            "i\n",
            "t\n",
            "a\n",
            "!\n"
          ]
        }
      ],
      "source": [
        "# define a string variable, then\n",
        "# using a for loop, iterate through the letters of a string\n",
        "\n",
        "introduction = \"Hello, My name is Nikita!\"\n",
        "for letter in introduction:\n",
        "  print(letter)"
      ]
    },
    {
      "cell_type": "code",
      "execution_count": 51,
      "metadata": {
        "colab": {
          "base_uri": "https://localhost:8080/"
        },
        "id": "Gasm73abnxAh",
        "outputId": "93acce6c-26a6-4b66-ddd4-7a546a88d863"
      },
      "outputs": [
        {
          "output_type": "stream",
          "name": "stdout",
          "text": [
            "laundry\n",
            "cook\n",
            "eat\n",
            "study\n"
          ]
        }
      ],
      "source": [
        "# define a list variable, then\n",
        "# using a for loop, iterate through the contents of a list\n",
        "\n",
        "to_do_list = ['laundry', 'cook', 'eat', 'study']\n",
        "for item in to_do_list:\n",
        "    print(item)"
      ]
    },
    {
      "cell_type": "code",
      "execution_count": 52,
      "metadata": {
        "colab": {
          "base_uri": "https://localhost:8080/"
        },
        "id": "uvy39tyinxAh",
        "outputId": "4df1725c-c77d-4221-f571-5de39578aa89"
      },
      "outputs": [
        {
          "output_type": "stream",
          "name": "stdout",
          "text": [
            "The individual tokens in the string are :\n",
            "['Hello,', 'My', 'name', 'is', 'Nikita!']\n",
            "The alternate Tokens are :\n",
            "Hello,\n",
            "name\n",
            "Nikita!\n"
          ]
        }
      ],
      "source": [
        "# define a string variable, then\n",
        "# using a for loop and the range() function, print out every other token\n",
        "# (you may assume tokens are separated by spaces) in the string\n",
        "\n",
        "introduction = \"Hello, My name is Nikita!\"\n",
        "tokens = introduction.split()\n",
        "print(\"The individual tokens in the string are :\")\n",
        "print(tokens)\n",
        "print(\"The alternate Tokens are :\")\n",
        "for i in range(0, len(tokens), 2):\n",
        "    print(tokens[i])"
      ]
    },
    {
      "cell_type": "code",
      "execution_count": 53,
      "metadata": {
        "colab": {
          "base_uri": "https://localhost:8080/"
        },
        "id": "N5Q-wSfhnxAi",
        "outputId": "92396410-5ee8-4604-f181-0b5f0f0d9e1a"
      },
      "outputs": [
        {
          "output_type": "stream",
          "name": "stdout",
          "text": [
            "Hello, My name is Nikita.\n",
            "How are you ?\n",
            "Split using split(' '): ['Hello,', 'My', 'name', 'is', 'Nikita.\\nHow', 'are', 'you', '?']\n",
            "Split using split(): ['Hello,', 'My', 'name', 'is', 'Nikita.', 'How', 'are', 'you', '?']\n"
          ]
        }
      ],
      "source": [
        "# demonstrate the difference(s) between calling python's\n",
        "# str.split() function like str.split(' ') and str.split()\n",
        "\n",
        "introduction = \"Hello, My name is Nikita.\\nHow are you ?\"\n",
        "print(introduction)\n",
        "# Using str.split(' ') Splits only based on whitespaces\n",
        "split_1= introduction.split(' ')\n",
        "print(\"Split using split(' '):\", split_1)\n",
        "\n",
        "# Using str.split() Split based on whitespaces, tabs and new line\n",
        "split_2 = introduction.split()\n",
        "print(\"Split using split():\", split_2)"
      ]
    },
    {
      "cell_type": "markdown",
      "metadata": {
        "id": "WD7wCGi-nxAi"
      },
      "source": [
        "Task 2: Timing Python Functions (15 points)\n",
        "----\n",
        "\n",
        "In this section, we'll explore efficiency and python data structures.\n",
        "You'll work on increasing your familiarity with `list`s, `dict`s, and [`Counter`](https://docs.python.org/3/library/collections.html#collections.Counter)s.\n",
        "\n",
        "Notice that in our python function headers, we include [type hints](https://docs.python.org/3/library/typing.html)."
      ]
    },
    {
      "cell_type": "code",
      "execution_count": 54,
      "metadata": {
        "id": "OW1z0qdqnxAj"
      },
      "outputs": [],
      "source": [
        "# for timing\n",
        "import time\n",
        "\n",
        "# for our fancier data structure\n",
        "from collections import Counter\n",
        "\n",
        "# for type hinting\n",
        "from typing import Callable\n",
        "\n",
        "# for graphing\n",
        "import matplotlib.pyplot as plt\n",
        "\n",
        "# for random number generation\n",
        "import random"
      ]
    },
    {
      "cell_type": "code",
      "execution_count": 55,
      "metadata": {
        "colab": {
          "base_uri": "https://localhost:8080/"
        },
        "id": "BBnG9tVSnxAj",
        "outputId": "27d0c5ee-1bc7-40d5-d36a-c47837b56bb0"
      },
      "outputs": [
        {
          "output_type": "stream",
          "name": "stdout",
          "text": [
            "Sentence 1 took: 4.76837158203125e-07 seconds!\n",
            "Sentence 2 took: 4.76837158203125e-07 seconds!\n"
          ]
        }
      ],
      "source": [
        "# provided\n",
        "def timer(fun: Callable, tokens: list) -> float:\n",
        "    \"\"\"\n",
        "    measure (in seconds) the time that it takes to run a\n",
        "    function that operates on a list of strings (tokens)\n",
        "\n",
        "    Args:\n",
        "    fun: Callable\n",
        "    tokens: list\n",
        "\n",
        "    return:\n",
        "    float (seconds)\n",
        "    \"\"\"\n",
        "    start = time.time()\n",
        "    fun(tokens)\n",
        "    end = time.time()\n",
        "    return end - start\n",
        "\n",
        "# call like\n",
        "# len is the funtion that is being timed\n",
        "print(\"Sentence 1 took:\", timer(len, [\"Hello\", \"my\", \"name\", \"is\", \"Nikita\", \"!\"]), \"seconds!\")\n",
        "print(\"Sentence 2 took:\", timer(len, [\"Hello\", \"my\", \"name\", \"is\", \"Nikita\", \"!\", \"How\", \"are\", \"you\", \"?\"]), \"seconds!\")"
      ]
    },
    {
      "cell_type": "code",
      "execution_count": 56,
      "metadata": {
        "id": "ll55gqZanxAk"
      },
      "outputs": [],
      "source": [
        "# TODO: implement the following functions (function signatures are provided for you)\n",
        "\n",
        "def count_list(tokens: list) -> dict:\n",
        "    \"\"\"\n",
        "    Count the number of occurrences of each token in a list of tokens.\n",
        "    Use the list.count() method.\n",
        "\n",
        "    Args:\n",
        "    tokens: list of items (often tokens)\n",
        "\n",
        "    return:\n",
        "    dict (mapping from token to count)\n",
        "    \"\"\"\n",
        "    tokens_set = set(tokens)\n",
        "    token_counts = {}\n",
        "    for token in tokens_set:\n",
        "        count = tokens.count(token)\n",
        "        token_counts[token] = count\n",
        "    return token_counts\n",
        "\n",
        "def count_dict(tokens: list) -> dict:\n",
        "    \"\"\"\n",
        "    Count the number of occurrences of each token in a list of tokens.\n",
        "    Do not use the list.count() method. Do not use a Counter.\n",
        "    If you would like to use any method/function other than len, it must be\n",
        "    okay'd with the teaching staff.\n",
        "\n",
        "    Args:\n",
        "    tokens: list of items (often tokens)\n",
        "\n",
        "    return:\n",
        "    dict (mapping from token to count)\n",
        "    \"\"\"\n",
        "    token_counts = {}\n",
        "    for token in tokens:\n",
        "        if token in token_counts:\n",
        "            token_counts[token] += 1\n",
        "        else:\n",
        "            token_counts[token] = 1\n",
        "    return token_counts\n",
        "\n",
        "def count_counter(tokens: list) -> Counter:\n",
        "    \"\"\"\n",
        "    Count the number of occurrences of each token in a list of tokens.\n",
        "    Use a Counter.\n",
        "    Do not use the list.count() method or any other list/dict functions/methods.\n",
        "\n",
        "    Args:\n",
        "    tokens: list of items (often tokens)\n",
        "\n",
        "    return:\n",
        "    Counter (mapping from token to count)\n",
        "    \"\"\"\n",
        "    token_counts = Counter(tokens)\n",
        "    return token_counts"
      ]
    },
    {
      "cell_type": "code",
      "execution_count": 57,
      "metadata": {
        "colab": {
          "base_uri": "https://localhost:8080/"
        },
        "id": "nNHGx7dpnxAk",
        "outputId": "8d7cd5ee-8f90-4ad8-fbd7-6b3572ee0c08"
      },
      "outputs": [
        {
          "output_type": "stream",
          "name": "stdout",
          "text": [
            "List with no duplicates: ['pink', 'blue', 'yellow', 'orange']\n",
            "Testing count_list: {'blue': 1, 'orange': 1, 'pink': 1, 'yellow': 1}\n",
            "Testing count_dict: {'pink': 1, 'blue': 1, 'yellow': 1, 'orange': 1}\n",
            "Testing count_counter: Counter({'pink': 1, 'blue': 1, 'yellow': 1, 'orange': 1})\n",
            "\n",
            "List with duplicates: ['pink', 'orange', 'blue', 'pink', 'blue', 'pink']\n",
            "Testing count_list: {'blue': 2, 'orange': 1, 'pink': 3}\n",
            "Testing count_dict: {'pink': 3, 'orange': 1, 'blue': 2}\n",
            "Testing count_counter: Counter({'pink': 3, 'blue': 2, 'orange': 1})\n"
          ]
        }
      ],
      "source": [
        "# TODO: verify that your count_* functions are correct and consistent with one another\n",
        "\n",
        "# Make sure to test both if the list does not have duplicates and if it does\n",
        "\n",
        "list_without_duplicates= [\"pink\", \"blue\", \"yellow\", \"orange\"]\n",
        "print(\"List with no duplicates:\", list_without_duplicates)\n",
        "\n",
        "print(\"Testing count_list:\", count_list(list_without_duplicates))\n",
        "\n",
        "print(\"Testing count_dict:\", count_dict(list_without_duplicates))\n",
        "\n",
        "print(\"Testing count_counter:\", count_counter(list_without_duplicates))\n",
        "\n",
        "list_with_duplicates = [\"pink\", \"orange\", \"blue\", \"pink\", \"blue\", \"pink\"]\n",
        "print(\"\\nList with duplicates:\", list_with_duplicates)\n",
        "\n",
        "print(\"Testing count_list:\", count_list(list_with_duplicates))\n",
        "\n",
        "print(\"Testing count_dict:\", count_dict(list_with_duplicates))\n",
        "\n",
        "print(\"Testing count_counter:\", count_counter(list_with_duplicates))\n"
      ]
    },
    {
      "cell_type": "code",
      "execution_count": 60,
      "metadata": {
        "colab": {
          "base_uri": "https://localhost:8080/",
          "height": 449
        },
        "id": "NbJgy8GCnxAk",
        "outputId": "a8801fde-fe16-41de-ba9e-ae12b0b642eb"
      },
      "outputs": [
        {
          "output_type": "display_data",
          "data": {
            "text/plain": [
              "<Figure size 640x480 with 1 Axes>"
            ],
            "image/png": "[encoded data removed]"
          },
          "metadata": {}
        }
      ],
      "source": [
        "# TODO: create a graph with three lines, one for each of the three count_* functions\n",
        "# x-axis should be the number of items in the list given to the function (go up to at least 500)\n",
        "# y-axis should be the time taken to run the function\n",
        "# the graph should have a legend indicating which line is which (use plt.legend() to make this happen)\n",
        "\n",
        "# you'll need to generate one (or more) list(s) of items to be counted.\n",
        "# we recommend using the random module to generate random integers\n",
        "# Function to generate a list of random integers\n",
        "\n",
        "def generate_random_list(size):\n",
        "    return [random.randint(0, 10) for i in range(size)]\n",
        "\n",
        "list_sizes = list(range(1, 501, 10))\n",
        "\n",
        "times_list = []\n",
        "times_dict = []\n",
        "times_counter = []\n",
        "\n",
        "for size in list_sizes:\n",
        "    random_list = generate_random_list(size)\n",
        "\n",
        "    time_list = timer(count_list, random_list)\n",
        "    times_list.append(time_list)\n",
        "\n",
        "    time_dict = timer(count_dict, random_list)\n",
        "    times_dict.append(time_dict)\n",
        "\n",
        "    time_counter = timer(count_counter, random_list)\n",
        "    times_counter.append(time_counter)\n",
        "\n",
        "plt.plot(list_sizes, times_list, label='count_list')\n",
        "plt.plot(list_sizes, times_dict, label='count_dict')\n",
        "plt.plot(list_sizes, times_counter, label='count_counter')\n",
        "\n",
        "plt.xlabel('Number of Items in List')\n",
        "plt.ylabel('Time Taken to Run Function (seconds)')\n",
        "plt.legend()\n",
        "plt.show()\n"
      ]
    },
    {
      "cell_type": "markdown",
      "metadata": {
        "id": "ulgxCKBcnxAl"
      },
      "source": [
        "Task 3: Real World Data (8 points)\n",
        "----\n",
        "\n",
        "In this section, you'll find some real world text data *of interest to you* and run some analysis on this data. The data that you choose can include labels, but if it does, do not include those labels in your counts of tokens, etc.\n",
        "\n",
        "\n",
        "Size requirements:\n",
        "- your file must contain a minimum of 10,000 tokens (as measured by at least *one* of your tokenization schemes).\n",
        "\n",
        "\n",
        "Key vocabulary:\n",
        "\n",
        "__token__: The unit that we will operate on when processing text. Normally corresponds roughly to \"words\", and you can assume that this is the case for this homework."
      ]
    },
    {
      "cell_type": "code",
      "execution_count": 61,
      "metadata": {
        "id": "TFXQh5eunxAl"
      },
      "outputs": [],
      "source": [
        "# TODO\n",
        "# the file should be in the same folder as this notebook because when you\n",
        "# submit this notebook, you will also submit the file and the backend of the\n",
        "# system expects them to be in the same directory\n",
        "FILE = \"Harry Potter and the Order of the Phoenix.txt\""
      ]
    },
    {
      "cell_type": "code",
      "execution_count": 62,
      "metadata": {
        "id": "uzgzJz3xnxAl"
      },
      "outputs": [],
      "source": [
        "# read the contents of your file in, however you'd like\n",
        "\n",
        "with open(FILE, 'r', encoding='utf-8') as file:\n",
        "    file_contents = file.read()"
      ]
    },
    {
      "cell_type": "code",
      "execution_count": 63,
      "metadata": {
        "colab": {
          "base_uri": "https://localhost:8080/"
        },
        "id": "IOJHEFttnxAl",
        "outputId": "f397065e-aa48-4486-a4d6-d91d784e0985"
      },
      "outputs": [
        {
          "output_type": "stream",
          "name": "stdout",
          "text": [
            "The number of lines in the book are:  9297\n",
            "The number of sentences in the book are:  22947\n"
          ]
        }
      ],
      "source": [
        "# how many lines are in your file?\n",
        "import re\n",
        "\n",
        "lines_count = len(file_contents.split('\\n'))\n",
        "\n",
        "sentences_count = len(re.split(r'[.!?]', file_contents))\n",
        "\n",
        "print(\"The number of lines in the book are: \", lines_count)\n",
        "print(\"The number of sentences in the book are: \", sentences_count)"
      ]
    },
    {
      "cell_type": "code",
      "execution_count": 64,
      "metadata": {
        "colab": {
          "base_uri": "https://localhost:8080/"
        },
        "id": "VRO59Ln7nxAl",
        "outputId": "7cd4d6f5-6e6a-4c02-a331-580c97e9c4c4"
      },
      "outputs": [
        {
          "output_type": "stream",
          "name": "stdout",
          "text": [
            "The number of tokens are:  266181\n"
          ]
        }
      ],
      "source": [
        "# Tokenize your data using the str.split() function. How many tokens are there?\n",
        "tokens = file_contents.split()\n",
        "tokens_count = len(tokens)\n",
        "print(\"The number of tokens are: \", tokens_count)"
      ]
    },
    {
      "cell_type": "markdown",
      "metadata": {
        "id": "3sP_JHGlnxAl"
      },
      "source": [
        "Find five specific examples of difficult-to-tokenize sequences of letters in your data.\n",
        "- Example 1 : 'Put - it - away!' Uncle Vernon snarled into Harry's ear. 'Now! Before - anyone - sees!'\n",
        "- Example 2 : 'The owls . . . aren't bringing me news,' he said tonelessly.\n",
        "- Example 3 : 'W-what are you d-doing? St-stop it!'\n",
        "- Example 4 : 'His . . . but . . . Ron, you're not . . .?'\n",
        "- Example 5 : ' - it was that song that wound me up - '"
      ]
    },
    {
      "cell_type": "markdown",
      "metadata": {
        "id": "eER4NTy8nxAm"
      },
      "source": [
        "Task 4: Data Write-Up (6 points)\n",
        "---\n",
        "\n",
        "Every time you use a data set in an NLP application (or in any software application), you should be able to answer a set of questions about that data. Answer these now. Default to no more than 1 sentence per question needed. If more explanation is necessary, do give it.\n"
      ]
    },
    {
      "cell_type": "markdown",
      "metadata": {
        "id": "_-6kczZ2nxAm"
      },
      "source": [
        "1. Where did you get the data from?\n",
        "\n",
        "  Ans : I downloaded the text file of \"Harry Potter and the Order of Phoenix\" from a GitHub Repository.\n",
        "\n",
        "2. How was the data collected (where did the people acquiring the data get it from and how)?\n",
        "\n",
        "  Ans : The data is a .txt version of a book.\n",
        "\n",
        "3. How large is the dataset? (copy # of lines and # of tokens from above)\n",
        "\n",
        "  Ans : The number of lines in the book are:  9297\n",
        "\n",
        "  The number of sentences in the book are:  22947\n",
        "\n",
        "  The number of tokens are:  266181\n",
        "\n",
        "4. Is your dataset a subset of a larger dataset or the entirety of a dataset?\n",
        "\n",
        "  Ans : It is the entire dataset as I have used the entire book.\n",
        "\n",
        "5. What is your data? (i.e. newswire, tweets, books, blogs, etc)\n",
        "\n",
        "  Ans : It is a book.\n",
        "\n",
        "6. Who produced the data? (who were the authors of the text? Your answer might be a specific person or a particular group of people)\n",
        "\n",
        "  Ans : J K Rowling is the author of the book."
      ]
    },
    {
      "cell_type": "markdown",
      "metadata": {
        "id": "i8Zx6m0nnxAm"
      },
      "source": []
    }
  ],
  "metadata": {
    "kernelspec": {
      "display_name": "Python 3 (ipykernel)",
      "language": "python",
      "name": "python3"
    },
    "language_info": {
      "codemirror_mode": {
        "name": "ipython",
        "version": 3
      },
      "file_extension": ".py",
      "mimetype": "text/x-python",
      "name": "python",
      "nbconvert_exporter": "python",
      "pygments_lexer": "ipython3",
      "version": "3.11.5"
    },
    "colab": {
      "provenance": []
    }
  },
  "nbformat": 4,
  "nbformat_minor": 0
}